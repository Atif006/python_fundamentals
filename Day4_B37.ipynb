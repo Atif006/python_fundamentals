{
 "cells": [
  {
   "cell_type": "code",
   "execution_count": 1,
   "metadata": {},
   "outputs": [
    {
     "name": "stdout",
     "output_type": "stream",
     "text": [
      "['akshay', 'anish', 'azhar ali', 'rizwan']\n"
     ]
    }
   ],
   "source": [
    "students = ['akshay','anish','azhar ali','rizwan']\n",
    "print(students)"
   ]
  },
  {
   "cell_type": "code",
   "execution_count": 2,
   "metadata": {},
   "outputs": [
    {
     "name": "stdout",
     "output_type": "stream",
     "text": [
      "<class 'list'>\n"
     ]
    }
   ],
   "source": [
    "print(type(students))"
   ]
  },
  {
   "cell_type": "code",
   "execution_count": 4,
   "metadata": {},
   "outputs": [
    {
     "name": "stdout",
     "output_type": "stream",
     "text": [
      "anish\n",
      "Azhar Ali\n"
     ]
    }
   ],
   "source": [
    "#-- print anish from list\n",
    "print(students[1])\n",
    "print(students[2].title())\n"
   ]
  },
  {
   "cell_type": "code",
   "execution_count": 16,
   "metadata": {},
   "outputs": [
    {
     "name": "stdout",
     "output_type": "stream",
     "text": [
      "['akshay', 'shahwaz alam', 'shahbaz', 'md irfan']\n"
     ]
    }
   ],
   "source": [
    "#-- add new element in list at last\n",
    "students.append('md irfan')\n",
    "print(students)\n"
   ]
  },
  {
   "cell_type": "code",
   "execution_count": 17,
   "metadata": {},
   "outputs": [
    {
     "name": "stdout",
     "output_type": "stream",
     "text": [
      "['akshay', 'shahwaz alam', 'shahwaz alam', 'shahbaz', 'md irfan']\n"
     ]
    }
   ],
   "source": [
    "#-- add new element in list at specific index\n",
    "students.insert(1,'shahwaz alam')\n",
    "print(students)"
   ]
  },
  {
   "cell_type": "code",
   "execution_count": 18,
   "metadata": {},
   "outputs": [
    {
     "name": "stdout",
     "output_type": "stream",
     "text": [
      "['akshay', 'shahbaz', 'shahwaz alam', 'shahbaz', 'md irfan']\n"
     ]
    }
   ],
   "source": [
    "#-- modify to any index like shahwaz alam as shahbaz\n",
    "students[1] = 'shahbaz'\n",
    "print(students)"
   ]
  },
  {
   "cell_type": "code",
   "execution_count": 19,
   "metadata": {},
   "outputs": [
    {
     "name": "stdout",
     "output_type": "stream",
     "text": [
      " Before delete  ['akshay', 'shahbaz', 'shahwaz alam', 'shahbaz', 'md irfan']\n",
      " After delete   ['akshay', 'shahbaz', 'shahbaz', 'md irfan']\n"
     ]
    }
   ],
   "source": [
    "#-- delete any element in list\n",
    "#-- before delete\n",
    "print(f\" Before delete  {students}\")\n",
    "#-- after delete \n",
    "del students[2]\n",
    "print(f\" After delete   {students}\")"
   ]
  },
  {
   "cell_type": "code",
   "execution_count": null,
   "metadata": {},
   "outputs": [],
   "source": []
  },
  {
   "cell_type": "code",
   "execution_count": null,
   "metadata": {},
   "outputs": [],
   "source": []
  },
  {
   "cell_type": "code",
   "execution_count": null,
   "metadata": {},
   "outputs": [],
   "source": []
  },
  {
   "cell_type": "code",
   "execution_count": null,
   "metadata": {},
   "outputs": [],
   "source": []
  }
 ],
 "metadata": {
  "kernelspec": {
   "display_name": "Python 3",
   "language": "python",
   "name": "python3"
  },
  "language_info": {
   "codemirror_mode": {
    "name": "ipython",
    "version": 3
   },
   "file_extension": ".py",
   "mimetype": "text/x-python",
   "name": "python",
   "nbconvert_exporter": "python",
   "pygments_lexer": "ipython3",
   "version": "3.8.5"
  }
 },
 "nbformat": 4,
 "nbformat_minor": 4
}
