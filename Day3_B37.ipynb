{
 "cells": [
  {
   "cell_type": "code",
   "execution_count": 1,
   "metadata": {},
   "outputs": [
    {
     "name": "stdout",
     "output_type": "stream",
     "text": [
      "AZHAR ALAM\n"
     ]
    }
   ],
   "source": [
    "name = 'azhar alam'\n",
    "print(name.upper())"
   ]
  },
  {
   "cell_type": "code",
   "execution_count": 2,
   "metadata": {},
   "outputs": [
    {
     "name": "stdout",
     "output_type": "stream",
     "text": [
      "mohammad rizwan alam\n"
     ]
    }
   ],
   "source": [
    "name1 = 'MOHAMMAD RIZWAN ALAM'\n",
    "print(name1.lower())"
   ]
  },
  {
   "cell_type": "code",
   "execution_count": 8,
   "metadata": {},
   "outputs": [
    {
     "name": "stdout",
     "output_type": "stream",
     "text": [
      " mohammad rizwan alam\n"
     ]
    }
   ],
   "source": [
    "firstname = 'mohammad'\n",
    "midname = 'rizwan'\n",
    "lastname = 'alam'\n",
    "fullname = f\" {firstname} {midname} {lastname}\"\n",
    "print(fullname)"
   ]
  },
  {
   "cell_type": "code",
   "execution_count": 10,
   "metadata": {},
   "outputs": [
    {
     "name": "stdout",
     "output_type": "stream",
     "text": [
      " very well,  Mohammad Rizwan Alam\n"
     ]
    }
   ],
   "source": [
    "print(f\" very well, {fullname.title()}\")"
   ]
  },
  {
   "cell_type": "code",
   "execution_count": 14,
   "metadata": {},
   "outputs": [
    {
     "name": "stdout",
     "output_type": "stream",
     "text": [
      "i am md irfan i learn python programing language today my 3rd class\n",
      "i am md irfan \n",
      "i learn python programing language \n",
      "today my 3rd class\n",
      "i am md irfan\n",
      "\ti learn python programing language \n",
      "\ttoday my 3rd class\n"
     ]
    }
   ],
   "source": [
    "print(\"i am md irfan i learn python programing language today my 3rd class\")\n",
    "print(\"i am md irfan \\ni learn python programing language \\ntoday my 3rd class\")\n",
    "print(\"i am md irfan\\n\\ti learn python programing language \\n\\ttoday my 3rd class\")\n"
   ]
  },
  {
   "cell_type": "code",
   "execution_count": 20,
   "metadata": {},
   "outputs": [
    {
     "name": "stdout",
     "output_type": "stream",
     "text": [
      "     python\n",
      "python\n",
      "python programming\n",
      "           i am learning python code           \n",
      "i am learning python code\n"
     ]
    }
   ],
   "source": [
    "lang = '     python'\n",
    "\n",
    "print(lang)\n",
    "print(lang.lstrip())\n",
    "lang1 = 'python programming           '\n",
    "print(lang1.rstrip())\n",
    "lang2 ='           i am learning python code           '\n",
    "print(lang2)\n",
    "print(lang2.strip())\n"
   ]
  },
  {
   "cell_type": "code",
   "execution_count": null,
   "metadata": {},
   "outputs": [],
   "source": []
  },
  {
   "cell_type": "code",
   "execution_count": null,
   "metadata": {},
   "outputs": [],
   "source": []
  },
  {
   "cell_type": "code",
   "execution_count": null,
   "metadata": {},
   "outputs": [],
   "source": []
  }
 ],
 "metadata": {
  "kernelspec": {
   "display_name": "Python 3",
   "language": "python",
   "name": "python3"
  },
  "language_info": {
   "codemirror_mode": {
    "name": "ipython",
    "version": 3
   },
   "file_extension": ".py",
   "mimetype": "text/x-python",
   "name": "python",
   "nbconvert_exporter": "python",
   "pygments_lexer": "ipython3",
   "version": "3.8.5"
  }
 },
 "nbformat": 4,
 "nbformat_minor": 4
}
