{
 "cells": [
  {
   "cell_type": "code",
   "execution_count": 2,
   "metadata": {},
   "outputs": [
    {
     "name": "stdout",
     "output_type": "stream",
     "text": [
      "['mango', 'grapes', 'pomegranate', 'kivi', 'orange', 'guava', 'litchi']\n"
     ]
    },
    {
     "data": {
      "text/plain": [
       "list"
      ]
     },
     "execution_count": 2,
     "metadata": {},
     "output_type": "execute_result"
    }
   ],
   "source": [
    "fruits = ['mango','grapes','pomegranate','kivi','orange','guava','litchi']\n",
    "print(fruits)\n",
    "type(fruits)"
   ]
  },
  {
   "cell_type": "code",
   "execution_count": 3,
   "metadata": {},
   "outputs": [
    {
     "name": "stdout",
     "output_type": "stream",
     "text": [
      "['grapes', 'guava', 'kivi', 'litchi', 'mango', 'orange', 'pomegranate']\n"
     ]
    }
   ],
   "source": [
    "#-- print fruits in sorted order not original sort\n",
    "print(sorted(fruits))"
   ]
  },
  {
   "cell_type": "code",
   "execution_count": 5,
   "metadata": {},
   "outputs": [
    {
     "name": "stdout",
     "output_type": "stream",
     "text": [
      " before sort  ['mango', 'grapes', 'pomegranate', 'kivi', 'orange', 'guava', 'litchi']\n",
      " after sort  ['grapes', 'guava', 'kivi', 'litchi', 'mango', 'orange', 'pomegranate']\n"
     ]
    }
   ],
   "source": [
    "print(f\" before sort  {fruits}\")\n",
    "fruits.sort()\n",
    "print(f\" after sort  {fruits}\")"
   ]
  },
  {
   "cell_type": "code",
   "execution_count": 6,
   "metadata": {},
   "outputs": [
    {
     "data": {
      "text/plain": [
       "7"
      ]
     },
     "execution_count": 6,
     "metadata": {},
     "output_type": "execute_result"
    }
   ],
   "source": [
    "#-- to find length of list\n",
    "len(fruits)\n"
   ]
  },
  {
   "cell_type": "code",
   "execution_count": 7,
   "metadata": {},
   "outputs": [
    {
     "name": "stdout",
     "output_type": "stream",
     "text": [
      " before reverse order   ['grapes', 'guava', 'kivi', 'litchi', 'mango', 'orange', 'pomegranate']\n",
      " after reverse order  ['pomegranate', 'orange', 'mango', 'litchi', 'kivi', 'guava', 'grapes']\n"
     ]
    }
   ],
   "source": [
    "#-- to print in reverse order of list item\n",
    "print(f\" before reverse order   {fruits}\")\n",
    "fruits.reverse()\n",
    "print(f\" after reverse order  {fruits}\")"
   ]
  },
  {
   "cell_type": "code",
   "execution_count": null,
   "metadata": {},
   "outputs": [],
   "source": []
  },
  {
   "cell_type": "code",
   "execution_count": null,
   "metadata": {},
   "outputs": [],
   "source": []
  },
  {
   "cell_type": "code",
   "execution_count": null,
   "metadata": {},
   "outputs": [],
   "source": []
  },
  {
   "cell_type": "code",
   "execution_count": null,
   "metadata": {},
   "outputs": [],
   "source": []
  },
  {
   "cell_type": "code",
   "execution_count": null,
   "metadata": {},
   "outputs": [],
   "source": []
  }
 ],
 "metadata": {
  "kernelspec": {
   "display_name": "Python 3",
   "language": "python",
   "name": "python3"
  },
  "language_info": {
   "codemirror_mode": {
    "name": "ipython",
    "version": 3
   },
   "file_extension": ".py",
   "mimetype": "text/x-python",
   "name": "python",
   "nbconvert_exporter": "python",
   "pygments_lexer": "ipython3",
   "version": "3.8.5"
  }
 },
 "nbformat": 4,
 "nbformat_minor": 4
}
